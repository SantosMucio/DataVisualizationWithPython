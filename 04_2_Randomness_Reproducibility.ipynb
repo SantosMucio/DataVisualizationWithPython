{
 "cells": [
  {
   "cell_type": "markdown",
   "metadata": {},
   "source": [
    "# Randomness and Reproducibility\n",
    "\n",
    "As we learned in previous lessons, the concept of randomness is a cornerstone for statistical inference when drawing samples from larger populations.\n",
    "\n",
    "In this tutorial, we are going to cover the following:\n",
    "\n",
    "- Randomness and its uses in python.\n",
    "\n",
    "- Utilizing python seeds to reproduce analysis.\n",
    "\n",
    "- Generating random variables from a probability distribution.\n",
    "\n",
    "- Random sampling from a population."
   ]
  },
  {
   "cell_type": "markdown",
   "metadata": {},
   "source": [
    "## What is Randomness?\n",
    "\n",
    "In previous lessons, we touched on the significance of randomness when it comes to performing statistical inference on population samples.  If we have complete randomness, our estimates of means, proportions, and totals are ubiased.  This means our estimates are equal to the population values on average.\n",
    "\n",
    "In Python, we refer to randomness as the ability to generate data, strings, or, more generally, numbers at random.\n",
    "\n",
    "However, when conducting analysis it is important to consider reproducibility.  If we are creating random data, how can we enable reproducible analysis?\n",
    "\n",
    "We do this by utilizing pseudo-random number generators (PRNGs).  PRNGs start with a random number, known as the \"seed\", and then use an algorithm to generate a psuedo-random sequence based on it.\n",
    "\n",
    "This means that we can replicate the output of a random number generator in python simply by knowing which seed was used.\n",
    "\n",
    "We can showcase this by using the functions in the python library `random`."
   ]
  },
  {
   "cell_type": "markdown",
   "metadata": {},
   "source": [
    "## Setting a Seed and Generating Random Numbers"
   ]
  },
  {
   "cell_type": "code",
   "execution_count": 16,
   "metadata": {
    "ExecuteTime": {
     "end_time": "2023-10-05T21:06:50.802246500Z",
     "start_time": "2023-10-05T21:06:50.794891900Z"
    }
   },
   "outputs": [],
   "source": [
    "import random\n",
    "\n",
    "random.seed(1234)"
   ]
  },
  {
   "cell_type": "code",
   "execution_count": 30,
   "metadata": {
    "ExecuteTime": {
     "end_time": "2023-10-05T21:06:58.002077900Z",
     "start_time": "2023-10-05T21:06:57.997390300Z"
    }
   },
   "outputs": [
    {
     "data": {
      "text/plain": [
       "0.6232814750391685"
      ]
     },
     "execution_count": 30,
     "metadata": {},
     "output_type": "execute_result"
    }
   ],
   "source": [
    "random.random()"
   ]
  },
  {
   "cell_type": "markdown",
   "metadata": {},
   "source": [
    "## Random Numbers from Real-Valued Distributions"
   ]
  },
  {
   "cell_type": "markdown",
   "metadata": {},
   "source": [
    "### Uniform"
   ]
  },
  {
   "cell_type": "code",
   "execution_count": 34,
   "metadata": {
    "ExecuteTime": {
     "end_time": "2023-10-05T21:09:55.230294300Z",
     "start_time": "2023-10-05T21:09:55.205610400Z"
    }
   },
   "outputs": [
    {
     "data": {
      "text/plain": [
       "27.860324242217192"
      ]
     },
     "execution_count": 34,
     "metadata": {},
     "output_type": "execute_result"
    }
   ],
   "source": [
    "random.uniform(a=25, b=50)"
   ]
  },
  {
   "cell_type": "code",
   "execution_count": 65,
   "metadata": {
    "ExecuteTime": {
     "end_time": "2023-10-05T21:20:35.550703900Z",
     "start_time": "2023-10-05T21:20:35.544953700Z"
    }
   },
   "outputs": [
    {
     "data": {
      "text/plain": [
       "[0.12216597782255789, 0.9640887855842795, 0.5524537440489495]"
      ]
     },
     "execution_count": 65,
     "metadata": {},
     "output_type": "execute_result"
    }
   ],
   "source": [
    "unifNumbers = [random.uniform(a=0, b=1) for _ in range(10000)]\n",
    "unifNumbers[:3]"
   ]
  },
  {
   "cell_type": "markdown",
   "metadata": {},
   "source": [
    "### Normal"
   ]
  },
  {
   "cell_type": "code",
   "execution_count": 63,
   "metadata": {
    "ExecuteTime": {
     "end_time": "2023-10-05T21:13:28.304711500Z",
     "start_time": "2023-10-05T21:13:28.291630500Z"
    }
   },
   "outputs": [
    {
     "data": {
      "text/plain": [
       "-0.9470733009958375"
      ]
     },
     "execution_count": 63,
     "metadata": {},
     "output_type": "execute_result"
    }
   ],
   "source": [
    "random.normalvariate(mu=0, sigma=1)"
   ]
  },
  {
   "cell_type": "code",
   "execution_count": 66,
   "metadata": {
    "ExecuteTime": {
     "end_time": "2023-10-05T21:20:40.045640500Z",
     "start_time": "2023-10-05T21:20:40.033574300Z"
    }
   },
   "outputs": [
    {
     "data": {
      "text/plain": [
       "[-0.4534578554362447, 1.698759805558971, 0.4256129390257497]"
      ]
     },
     "execution_count": 66,
     "metadata": {},
     "output_type": "execute_result"
    }
   ],
   "source": [
    "normNubers = [random.normalvariate(mu=0, sigma=1) for _ in range(10000)]\n",
    "normNubers[:3]"
   ]
  },
  {
   "cell_type": "markdown",
   "metadata": {},
   "source": [
    "## Random Sampling from a Population\n",
    "\n",
    "We know that **Simple Random Sampling (SRS)** has the following properties:\n",
    "\n",
    "- Start with known list of *N* population units, and randomly select *n* units from the list\n",
    "- Every unit has equal probability of selection = *n/N*\n",
    "- All possible samples of size *n* are equaly likely\n",
    "- Estimates of means, proportions, and totals based on SRS are *UNBIASED* (meaning they are equal to the population values on average)"
   ]
  },
  {
   "cell_type": "code",
   "execution_count": 67,
   "metadata": {
    "ExecuteTime": {
     "end_time": "2023-10-05T21:23:11.660034400Z",
     "start_time": "2023-10-05T21:23:11.645889800Z"
    }
   },
   "outputs": [],
   "source": [
    "import numpy as np"
   ]
  },
  {
   "cell_type": "code",
   "execution_count": 68,
   "metadata": {
    "ExecuteTime": {
     "end_time": "2023-10-05T21:23:13.341030100Z",
     "start_time": "2023-10-05T21:23:13.316281900Z"
    }
   },
   "outputs": [],
   "source": [
    "population = [random.normalvariate(mu=0, sigma=1) for _ in range(10000)]"
   ]
  },
  {
   "cell_type": "code",
   "execution_count": 71,
   "metadata": {
    "ExecuteTime": {
     "end_time": "2023-10-05T21:23:35.185884800Z",
     "start_time": "2023-10-05T21:23:35.167523Z"
    }
   },
   "outputs": [],
   "source": [
    "sampleA = random.sample(population, k=500)\n",
    "sampleB = random.sample(population, k=500)"
   ]
  },
  {
   "cell_type": "code",
   "execution_count": 72,
   "metadata": {
    "ExecuteTime": {
     "end_time": "2023-10-05T21:23:42.304607600Z",
     "start_time": "2023-10-05T21:23:42.297797Z"
    }
   },
   "outputs": [
    {
     "data": {
      "text/plain": [
       "-0.01110891671919967"
      ]
     },
     "execution_count": 72,
     "metadata": {},
     "output_type": "execute_result"
    }
   ],
   "source": [
    "np.mean(sampleA)"
   ]
  },
  {
   "cell_type": "code",
   "execution_count": 73,
   "metadata": {
    "ExecuteTime": {
     "end_time": "2023-10-05T21:23:55.584587900Z",
     "start_time": "2023-10-05T21:23:55.526820800Z"
    }
   },
   "outputs": [
    {
     "data": {
      "text/plain": [
       "0.9955902645073841"
      ]
     },
     "execution_count": 73,
     "metadata": {},
     "output_type": "execute_result"
    }
   ],
   "source": [
    "np.std(sampleA)"
   ]
  },
  {
   "cell_type": "code",
   "execution_count": 74,
   "metadata": {
    "ExecuteTime": {
     "end_time": "2023-10-05T21:23:58.040790300Z",
     "start_time": "2023-10-05T21:23:58.028741100Z"
    }
   },
   "outputs": [
    {
     "data": {
      "text/plain": [
       "-0.0514429787242087"
      ]
     },
     "execution_count": 74,
     "metadata": {},
     "output_type": "execute_result"
    }
   ],
   "source": [
    "np.mean(sampleB)"
   ]
  },
  {
   "cell_type": "code",
   "execution_count": 82,
   "metadata": {
    "ExecuteTime": {
     "end_time": "2023-10-05T21:24:14.610981Z",
     "start_time": "2023-10-05T21:24:14.598408700Z"
    }
   },
   "outputs": [
    {
     "data": {
      "text/plain": [
       "0.9999900919878121"
      ]
     },
     "execution_count": 82,
     "metadata": {},
     "output_type": "execute_result"
    }
   ],
   "source": [
    "np.std(sampleB)"
   ]
  },
  {
   "cell_type": "code",
   "execution_count": 83,
   "metadata": {
    "ExecuteTime": {
     "end_time": "2023-10-05T21:25:01.377525Z",
     "start_time": "2023-10-05T21:25:01.331963300Z"
    }
   },
   "outputs": [
    {
     "data": {
      "text/plain": [
       "0.010988215943023228"
      ]
     },
     "execution_count": 83,
     "metadata": {},
     "output_type": "execute_result"
    }
   ],
   "source": [
    "means = [np.mean(random.sample(population, k=1000)) for _ in range(100)]\n",
    "np.mean(means)"
   ]
  },
  {
   "cell_type": "code",
   "execution_count": 87,
   "metadata": {
    "ExecuteTime": {
     "end_time": "2023-10-05T21:26:39.226616300Z",
     "start_time": "2023-10-05T21:26:39.186920800Z"
    }
   },
   "outputs": [
    {
     "data": {
      "text/plain": [
       "1.0092396480626373"
      ]
     },
     "execution_count": 87,
     "metadata": {},
     "output_type": "execute_result"
    }
   ],
   "source": [
    "stddevs = [np.std(random.sample(population, k=1000)) for _ in range(100)]\n",
    "np.mean(stddevs)"
   ]
  },
  {
   "cell_type": "code",
   "execution_count": 15,
   "metadata": {
    "ExecuteTime": {
     "end_time": "2023-10-05T20:51:45.216768Z",
     "start_time": "2023-10-05T20:51:45.172872100Z"
    }
   },
   "outputs": [],
   "source": []
  }
 ],
 "metadata": {
  "hide_input": false,
  "kernelspec": {
   "display_name": "Python 3 (ipykernel)",
   "language": "python",
   "name": "python3"
  },
  "language_info": {
   "codemirror_mode": {
    "name": "ipython",
    "version": 3
   },
   "file_extension": ".py",
   "mimetype": "text/x-python",
   "name": "python",
   "nbconvert_exporter": "python",
   "pygments_lexer": "ipython3",
   "version": "3.10.11"
  },
  "toc": {
   "base_numbering": 1,
   "nav_menu": {},
   "number_sections": false,
   "sideBar": true,
   "skip_h1_title": false,
   "title_cell": "Table of Contents",
   "title_sidebar": "Contents",
   "toc_cell": false,
   "toc_position": {
    "height": "calc(100% - 180px)",
    "left": "10px",
    "top": "150px",
    "width": "384px"
   },
   "toc_section_display": true,
   "toc_window_display": false
  },
  "varInspector": {
   "cols": {
    "lenName": 16,
    "lenType": 16,
    "lenVar": 40
   },
   "kernels_config": {
    "python": {
     "delete_cmd_postfix": "",
     "delete_cmd_prefix": "del ",
     "library": "var_list.py",
     "varRefreshCmd": "print(var_dic_list())"
    },
    "r": {
     "delete_cmd_postfix": ") ",
     "delete_cmd_prefix": "rm(",
     "library": "var_list.r",
     "varRefreshCmd": "cat(var_dic_list()) "
    }
   },
   "types_to_exclude": [
    "module",
    "function",
    "builtin_function_or_method",
    "instance",
    "_Feature"
   ],
   "window_display": false
  }
 },
 "nbformat": 4,
 "nbformat_minor": 2
}
