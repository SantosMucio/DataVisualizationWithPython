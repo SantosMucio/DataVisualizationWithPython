{
 "cells": [
  {
   "cell_type": "markdown",
   "metadata": {},
   "source": [
    "# What is Jupyter Notebooks?\n",
    "\n",
    "Jupyter is a web-based interactive development environment that supports multiple programming languages, however most commonly used with the Python programming language.\n",
    "\n",
    "The interactive environment that Jupyter provides enables students, scientists, and researchers to create reproducible analysis and formulate a story within a single document.\n",
    "\n",
    "Lets take a look at an example of a completed Jupyter Notebook: [Example Notebook](https://nbviewer.org/github/cossatot/lanf_earthquake_likelihood/blob/master/notebooks/lanf_manuscript_notebook.ipynb)"
   ]
  },
  {
   "cell_type": "markdown",
   "metadata": {},
   "source": [
    "## How do you install Jupyter Notebooks?\n",
    "\n",
    "Official Installation Guide: <https://docs.jupyter.org/en/latest/install.html>\n",
    "\n",
    "Jupyter recommends utilizing [Anaconda](https://www.anaconda.com/download), which is a platform compatible with Windows, macOS, and Linux systems."
   ]
  },
  {
   "cell_type": "markdown",
   "metadata": {},
   "source": [
    "## Jupyter Notebook Features\n",
    "\n",
    "- File Browser\n",
    "\n",
    "- Markdown Cells & Syntax\n",
    "\n",
    "- Kernels, Variables, & Environment\n",
    "\n",
    "- Command vs. Edit Mode & Shortcuts"
   ]
  },
  {
   "cell_type": "markdown",
   "metadata": {},
   "source": [
    "# What is Markdown?\n",
    "\n",
    "Markdown is a markup language that uses plain text formatting syntax.  This means that we can modify the formatting our text with the use of various symbols on our keyboard as indicators.\n",
    "\n",
    "Some examples include:\n",
    "\n",
    "- Headers\n",
    "\n",
    "- Text modifications such as italics and bold\n",
    "\n",
    "- Ordered and unordered lists\n",
    "\n",
    "- Links\n",
    "\n",
    "- LaTeX\n",
    "\n",
    "- Tables\n",
    "\n",
    "- Images\n",
    "\n",
    "- Etc."
   ]
  },
  {
   "cell_type": "markdown",
   "metadata": {},
   "source": [
    "## Headers:\n",
    "\n",
    "# Heading level 1\n",
    "\n",
    "## Heading level 2\n",
    "\n",
    "### Heading level 3\n",
    "\n",
    "#### Heading level 4\n",
    "\n",
    "##### Heading level 5\n",
    "\n",
    "###### Heading level 6"
   ]
  },
  {
   "cell_type": "markdown",
   "metadata": {},
   "source": [
    "## Text modifications\n",
    "\n",
    "Use the following formats in your text features to apply the desired text formatting:\n",
    "\n",
    "- Italic text: *italic text* (single asteriks)\n",
    "\n",
    "- Bold text: **bold text** (double asteriks)\n",
    "\n",
    "- Strikethrough text: ~~strikethrough text~~ (double tilde)\n",
    "\n",
    "- Monospace text: `monospace text` (grave accent)\n",
    "\n",
    "There is no syntax for underline in the Markdown. The underline text might be confusing with hyperlinks. If you really need underline text in your Jupyter Notebook then you can do this with HTML tags:\n",
    "\n",
    "- Underline text: <u>underline text</u> (HTML tags)\n",
    "\n",
    "We can combine formats: ***italic and bold text***\n",
    "\n",
    "> Indented text (greater than sign). Any subsequent text is indented until the next new line."
   ]
  },
  {
   "cell_type": "markdown",
   "metadata": {},
   "source": [
    "## Lists\n",
    "\n",
    "To create a circular bullet point, use minuses sign. Each bullet point must be on its own line.\n",
    "\n",
    "- Main bullet point\n",
    "\n",
    "    - Sub bullet point\n",
    "\n",
    "- Another bullet point"
   ]
  },
  {
   "cell_type": "markdown",
   "metadata": {},
   "source": [
    "## Links\n",
    "\n",
    "To quickly turn a URL or email address into a link, enclose it in angle brackets. Example: <https://umich.edu>\n",
    "\n",
    "The syntax for a hyperlink is square brackets followed by parentheses. The square brackets hold the text, the parentheses hold the link. Example: [The University of Michigan's Homepage](https://umich.edu)\n",
    "\n",
    "To look into more examples of Markdown syntax and features such as tables, images, etc. head to the following link: [Markdown Reference](https://github.com/adam-p/markdown-here/wiki/Markdown-Cheatsheet)"
   ]
  },
  {
   "cell_type": "markdown",
   "metadata": {},
   "source": [
    "## LaTeX\n",
    "\n",
    "Surround mathematical symbols with a dollar sign, for example: $\\sqrt{\\pi^2}$"
   ]
  },
  {
   "cell_type": "markdown",
   "metadata": {},
   "source": [
    "# Kernels, Variables, and Environment\n",
    "\n",
    "A notebook kernel is a “computational engine” that executes the code contained in a Notebook document. There are kernels for various programming languages, however we are solely using the python kernel which executes python code.\n",
    "\n",
    "When a notebook is opened, the associated kernel is automatically launched for our convenience."
   ]
  },
  {
   "cell_type": "code",
   "execution_count": 1,
   "metadata": {},
   "outputs": [
    {
     "name": "stdout",
     "output_type": "stream",
     "text": [
      "This is a python code cell\n"
     ]
    }
   ],
   "source": [
    "# This is a comment\n",
    "print(\"This is a python code cell\")"
   ]
  },
  {
   "cell_type": "markdown",
   "metadata": {},
   "source": [
    "A kernel is the back-end of our notebook which not only executes our python code, but stores our initialized variables."
   ]
  },
  {
   "cell_type": "code",
   "execution_count": 2,
   "metadata": {},
   "outputs": [
    {
     "name": "stdout",
     "output_type": "stream",
     "text": [
      "x has been set to 1738\n"
     ]
    }
   ],
   "source": [
    "# Initialize variable x\n",
    "x = 1738\n",
    "print(f\"x has been set to {x}\")"
   ]
  },
  {
   "cell_type": "code",
   "execution_count": 3,
   "metadata": {},
   "outputs": [
    {
     "name": "stdout",
     "output_type": "stream",
     "text": [
      "What is your name? Jack\n",
      "The name you entered is Jack\n"
     ]
    }
   ],
   "source": [
    "# We can also run code that accepts input\n",
    "name = input(\"What is your name? \")\n",
    "print(\"The name you entered is \" + name)"
   ]
  },
  {
   "cell_type": "markdown",
   "metadata": {},
   "source": [
    "It is important to note that Jupyter Notebooks have in-line cell execution.  This means that a prior executing cell must complete its operations prior to another cell being executed.  A cell still being executing is indicated by the [*] on the left-hand side of the cell."
   ]
  },
  {
   "cell_type": "code",
   "execution_count": 4,
   "metadata": {},
   "outputs": [
    {
     "name": "stdout",
     "output_type": "stream",
     "text": [
      "This won't print until all prior cells have finished executing.\n"
     ]
    }
   ],
   "source": [
    "print(\"This won't print until all prior cells have finished executing.\")"
   ]
  },
  {
   "cell_type": "markdown",
   "metadata": {},
   "source": [
    "## Command vs. Edit Mode & Shortcuts\n",
    "\n",
    "There is an edit and a command mode for jupyter notebooks.  The mode is easily identifiable by the color of the left border of the cell.\n",
    "\n",
    "Blue = Command Mode.\n",
    "\n",
    "Green = Edit Mode.\n",
    "\n",
    "Command Mode can be toggled by pressing **esc** on your keyboard.\n",
    "\n",
    "Commands can be used to execute notebook functions.  For example, changing the format of a markdown cell or adding line numbers.\n",
    "\n",
    "Lets toggle line numbers while in command mode by pressing **L**.\n",
    "\n",
    "### Additional Shortcuts\n",
    "\n",
    "There are a lot of shortcuts that can be used to improve productivity while using Jupyter Notebooks.\n",
    "\n",
    "Here is a list:\n",
    "\n",
    "![](img/shortcuts.png)"
   ]
  },
  {
   "cell_type": "markdown",
   "metadata": {
    "colab_type": "text",
    "id": "tPxurgKK6mUZ"
   },
   "source": [
    "# Python Resources\n",
    "\n",
    "The purpose of this document is to direct you to resources that you may find useful if you decide to do a deeper dive into Python. If you have a background in Python or programming, a style guides are included below to show how Python may differ from other programming languages or give you a launching point for diving deeper into more advanced packages."
   ]
  },
  {
   "cell_type": "markdown",
   "metadata": {},
   "source": [
    "## Python Documentation\n",
    "\n",
    "Any reference that does not begin with the Python documentation would not be complete. The authors of the language, as well as the community that supports it, have developed a great set of tutorials, documentation, and references around Python. When in doubt, this is often the first place that you should look if you run into a scary error or would like to learn more about a specific function. The documentation can be found here: [Python Documentation](https://docs.python.org/3)"
   ]
  },
  {
   "cell_type": "markdown",
   "metadata": {
    "colab_type": "text",
    "id": "8OH-7kq_3Ei4"
   },
   "source": [
    "## Python Programming Introduction\n",
    "\n",
    "Below are resources to help you along your way in learning Python. While it is great to consume material, in programming there is no substitute for actually writing code. For every hour that you spend learning, you should spend about twice that amount of time writing code for cool problems or working out examples. Coding is best learned through actually coding!\n",
    "\n",
    "- [Coursera](https://www.coursera.org/courses?query=python) has several offerings for Python that you can take. These courses will go into depth into Python programming and how to use it in an applied setting.\n",
    "\n",
    "- [Code Academy](https://www.codecademy.com/search?query=python) is another resources that is great for learning Python (and other programming languages). While not as focused as Cousera, this is a quick way to get up-and-running with Python\n",
    "\n",
    "- [YouTube](https://www.youtube.com/) is another great resource for online learning and there are several \"courses\" for learning Python. We recommend trying several sets of videos to see which you like best and using multiple video series to learn since each will present the material in a slightly different way\n",
    "\n",
    "- If you have a background in coding, [Tutorials Point](https://www.tutorialspoint.com/python/index.htm) will be useful in getting started with Python. This tutorial assumes that you have some background in coding in another language\n",
    "\n",
    "- There are tens of books on programming in Python that are great if you prefer to read. More so than the other resources, be sure to code what you learn. It is easy to read about coding, but you really learn to code by coding!"
   ]
  },
  {
   "cell_type": "markdown",
   "metadata": {
    "colab_type": "text",
    "id": "PdurMQjI2rQn"
   },
   "source": [
    "## Python CheatSheets\n",
    "\n",
    "There are a variety of one-pagers and cheat-sheets available for Python that summarize the language in a few simple pages. These resources tend to be more aimed at someone who knows the language, or has experience in the language. \n",
    "\n",
    "- [NumPy CheatSheet](https://www.datacamp.com/cheat-sheet/numpy-cheat-sheet-data-analysis-in-python)\n",
    "\n",
    "- [Pandas CheatSheet](https://www.datacamp.com/cheat-sheet/pandas-cheat-sheet-data-wrangling-in-python)\n",
    "\n",
    "- [SciPy CheatSheet](https://www.datacamp.com/cheat-sheet/scipy-cheat-sheet-linear-algebra-in-python)\n",
    "\n",
    "- [Matplotlib CheatSheer](https://www.datacamp.com/cheat-sheet/matplotlib-cheat-sheet-plotting-in-python)\n",
    "\n",
    "- [Seaborn CheatSheet](https://www.datacamp.com/cheat-sheet/python-seaborn-cheat-sheet)"
   ]
  },
  {
   "cell_type": "markdown",
   "metadata": {
    "colab_type": "text",
    "id": "swjetdNA2_iq"
   },
   "source": [
    "# Python Style Guides\n",
    "\n",
    "As you learn to code, you will find that you will begin to develop your own style, sometimes this is good. Most times, this can be detrimental to your code readability and, worse, can hinder you from finding bugs in your own code in extreme cases. \n",
    "\n",
    "It is best to learn good coding habits from the beginning and the [Google Style Guide](https://github.com/google/styleguide/blob/gh-pages/pyguide.md) is a great place to start."
   ]
  },
  {
   "cell_type": "markdown",
   "metadata": {
    "colab_type": "text",
    "id": "iNXpVVq6zSfY"
   },
   "source": [
    "## Consistent Indenting\n",
    "\n",
    "Python will generally \"yell\" at you if your indenting is incorrect. It is good to use an editor that takes care of this for you. In general, four spaces are preferred for indenting and you should not mix tabs and spaces. "
   ]
  },
  {
   "cell_type": "markdown",
   "metadata": {
    "colab_type": "text",
    "id": "ErsdjHdUDixX"
   },
   "source": [
    "## Commenting\n",
    "\n",
    "Comments seem weird when you first begin programming - why would I include 'code' that doesn't run? Comments are probably some of the most important aspects of code. They help other read code that is difficult for them to understand, and they, more importantly, are helpful for yourself if you look at the code in a few weeks and need clarity on why you did something. Always comment and comment well."
   ]
  },
  {
   "cell_type": "code",
   "execution_count": 5,
   "metadata": {
    "colab": {},
    "colab_type": "code",
    "id": "c0kgjakBF5X8"
   },
   "outputs": [
    {
     "name": "stdout",
     "output_type": "stream",
     "text": [
      "1\n",
      "2\n",
      "3\n",
      "4\n",
      "5\n",
      "6\n",
      "6\n",
      "7\n",
      "8\n",
      "9\n"
     ]
    }
   ],
   "source": [
    "# Printing one to five, a six, and then six to nine\n",
    "for x in range(10):\n",
    "    # If x > 5, then print the value\n",
    "    if x > 5: \n",
    "        print (x)\n",
    "    else:\n",
    "        print (x + 1)"
   ]
  },
  {
   "cell_type": "markdown",
   "metadata": {
    "colab_type": "text",
    "id": "UDSKv5J3G9j-"
   },
   "source": [
    "## Line Length\n",
    "\n",
    "Try to avoid excessively long lines. Standard practice is to keep lines to no longer than 80 characters. While this is not a hard rule, it is a good practice to follow for readability"
   ]
  },
  {
   "cell_type": "code",
   "execution_count": 6,
   "metadata": {
    "colab": {},
    "colab_type": "code",
    "id": "QhSQsFKeHZae"
   },
   "outputs": [],
   "source": [
    "# Bad - This code is too long\n",
    "my_random_array = [1, 2, 3, 4, 5, 6, 7, 8, 9, 10, 1, 2, 3, 4, 5, 6, 7, 8, 9, 10, 1, 2, 3, 4, 5, 6, 7, 8, 9, 10, 1, 2, 3, 4, 5, 6, 7, 8, 9, 10]\n",
    "\n",
    "# Good - this code is wrapped to avoid excessive length\n",
    "my_random_array = [1, 2, 3, 4, 5, 6, 7, 8, 9, 10,\n",
    "                   1, 2, 3, 4, 5, 6, 7, 8, 9, 10,\n",
    "                   1, 2, 3, 4, 5, 6, 7, 8, 9, 10,\n",
    "                   1, 2, 3, 4, 5, 6, 7, 8, 9, 10]"
   ]
  },
  {
   "cell_type": "markdown",
   "metadata": {
    "colab_type": "text",
    "id": "-IVW9wL8JC9O"
   },
   "source": [
    "## White Space\n",
    "\n",
    "Utilizing Whitespace is a great way to improve the way that your code looks. In general the following can be helpful to improve the look of your code\n",
    "\n",
    "- Try to space out your code and introduce whitespace to improve readability\n",
    "\n",
    "- Use spacing to separate function arguments\n",
    "\n",
    "- Do not over-do spacing. Too many spaces between code blocks makes it difficult to organize code well"
   ]
  },
  {
   "cell_type": "markdown",
   "metadata": {
    "colab_type": "text",
    "id": "5Wafm9FsuNoi"
   },
   "source": [
    "## The tip of the iceberg\n",
    "\n",
    "Take a look at code out in the wild if you are really curious. How are they coding specific things? How do they manage spacing in loops? How do they manage the whitespace in argument list? \n",
    "\n",
    "You will learn to code by coding, and you will develop your own style but starting out with good habits ensures that your code is easy to read by others and, most importantly, yourself. Good luck!"
   ]
  },
  {
   "cell_type": "code",
   "execution_count": null,
   "metadata": {},
   "outputs": [],
   "source": []
  }
 ],
 "metadata": {
  "hide_input": false,
  "kernelspec": {
   "display_name": "Python 3 (ipykernel)",
   "language": "python",
   "name": "python3"
  },
  "language_info": {
   "codemirror_mode": {
    "name": "ipython",
    "version": 3
   },
   "file_extension": ".py",
   "mimetype": "text/x-python",
   "name": "python",
   "nbconvert_exporter": "python",
   "pygments_lexer": "ipython3",
   "version": "3.10.11"
  },
  "toc": {
   "base_numbering": 1,
   "nav_menu": {},
   "number_sections": false,
   "sideBar": true,
   "skip_h1_title": false,
   "title_cell": "Table of Contents",
   "title_sidebar": "Contents",
   "toc_cell": false,
   "toc_position": {
    "height": "calc(100% - 180px)",
    "left": "10px",
    "top": "150px",
    "width": "384px"
   },
   "toc_section_display": true,
   "toc_window_display": false
  },
  "varInspector": {
   "cols": {
    "lenName": 16,
    "lenType": 16,
    "lenVar": 40
   },
   "kernels_config": {
    "python": {
     "delete_cmd_postfix": "",
     "delete_cmd_prefix": "del ",
     "library": "var_list.py",
     "varRefreshCmd": "print(var_dic_list())"
    },
    "r": {
     "delete_cmd_postfix": ") ",
     "delete_cmd_prefix": "rm(",
     "library": "var_list.r",
     "varRefreshCmd": "cat(var_dic_list()) "
    }
   },
   "types_to_exclude": [
    "module",
    "function",
    "builtin_function_or_method",
    "instance",
    "_Feature"
   ],
   "window_display": false
  }
 },
 "nbformat": 4,
 "nbformat_minor": 2
}
