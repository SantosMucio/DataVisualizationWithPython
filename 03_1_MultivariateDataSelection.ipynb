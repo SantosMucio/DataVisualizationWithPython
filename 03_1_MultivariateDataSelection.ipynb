{
 "cells": [
  {
   "cell_type": "markdown",
   "metadata": {
    "colab_type": "text",
    "id": "nA06qD27mcwM"
   },
   "source": [
    "# How to select dataframe subsets from multivariate data"
   ]
  },
  {
   "cell_type": "code",
   "execution_count": 1,
   "metadata": {
    "ExecuteTime": {
     "end_time": "2023-10-01T23:12:35.744432400Z",
     "start_time": "2023-10-01T23:12:35.583851300Z"
    },
    "colab": {},
    "colab_type": "code",
    "id": "Xcir3sFcmcwN"
   },
   "outputs": [],
   "source": [
    "import numpy as np\n",
    "import pandas as pd\n",
    "\n",
    "pd.set_option('display.max_columns', 30)"
   ]
  },
  {
   "cell_type": "code",
   "execution_count": 2,
   "metadata": {
    "ExecuteTime": {
     "end_time": "2023-10-01T23:12:35.783042100Z",
     "start_time": "2023-10-01T23:12:35.745478Z"
    },
    "colab": {},
    "colab_type": "code",
    "id": "3bqkbFQNmcwR"
   },
   "outputs": [
    {
     "data": {
      "text/html": [
       "<div>\n",
       "<style scoped>\n",
       "    .dataframe tbody tr th:only-of-type {\n",
       "        vertical-align: middle;\n",
       "    }\n",
       "\n",
       "    .dataframe tbody tr th {\n",
       "        vertical-align: top;\n",
       "    }\n",
       "\n",
       "    .dataframe thead th {\n",
       "        text-align: right;\n",
       "    }\n",
       "</style>\n",
       "<table border=\"1\" class=\"dataframe\">\n",
       "  <thead>\n",
       "    <tr style=\"text-align: right;\">\n",
       "      <th></th>\n",
       "      <th>SEQN</th>\n",
       "      <th>ALQ101</th>\n",
       "      <th>ALQ110</th>\n",
       "      <th>ALQ130</th>\n",
       "      <th>SMQ020</th>\n",
       "      <th>RIAGENDR</th>\n",
       "      <th>RIDAGEYR</th>\n",
       "      <th>RIDRETH1</th>\n",
       "      <th>DMDCITZN</th>\n",
       "      <th>DMDEDUC2</th>\n",
       "      <th>DMDMARTL</th>\n",
       "      <th>DMDHHSIZ</th>\n",
       "      <th>WTINT2YR</th>\n",
       "      <th>SDMVPSU</th>\n",
       "      <th>SDMVSTRA</th>\n",
       "      <th>INDFMPIR</th>\n",
       "      <th>BPXSY1</th>\n",
       "      <th>BPXDI1</th>\n",
       "      <th>BPXSY2</th>\n",
       "      <th>BPXDI2</th>\n",
       "      <th>BMXWT</th>\n",
       "      <th>BMXHT</th>\n",
       "      <th>BMXBMI</th>\n",
       "      <th>BMXLEG</th>\n",
       "      <th>BMXARML</th>\n",
       "      <th>BMXARMC</th>\n",
       "      <th>BMXWAIST</th>\n",
       "      <th>HIQ210</th>\n",
       "    </tr>\n",
       "  </thead>\n",
       "  <tbody>\n",
       "    <tr>\n",
       "      <th>0</th>\n",
       "      <td>83732</td>\n",
       "      <td>1.0</td>\n",
       "      <td>NaN</td>\n",
       "      <td>1.0</td>\n",
       "      <td>1</td>\n",
       "      <td>1</td>\n",
       "      <td>62</td>\n",
       "      <td>3</td>\n",
       "      <td>1.0</td>\n",
       "      <td>5.0</td>\n",
       "      <td>1.0</td>\n",
       "      <td>2</td>\n",
       "      <td>134671.37</td>\n",
       "      <td>1</td>\n",
       "      <td>125</td>\n",
       "      <td>4.39</td>\n",
       "      <td>128.0</td>\n",
       "      <td>70.0</td>\n",
       "      <td>124.0</td>\n",
       "      <td>64.0</td>\n",
       "      <td>94.8</td>\n",
       "      <td>184.5</td>\n",
       "      <td>27.8</td>\n",
       "      <td>43.3</td>\n",
       "      <td>43.6</td>\n",
       "      <td>35.9</td>\n",
       "      <td>101.1</td>\n",
       "      <td>2.0</td>\n",
       "    </tr>\n",
       "    <tr>\n",
       "      <th>1</th>\n",
       "      <td>83733</td>\n",
       "      <td>1.0</td>\n",
       "      <td>NaN</td>\n",
       "      <td>6.0</td>\n",
       "      <td>1</td>\n",
       "      <td>1</td>\n",
       "      <td>53</td>\n",
       "      <td>3</td>\n",
       "      <td>2.0</td>\n",
       "      <td>3.0</td>\n",
       "      <td>3.0</td>\n",
       "      <td>1</td>\n",
       "      <td>24328.56</td>\n",
       "      <td>1</td>\n",
       "      <td>125</td>\n",
       "      <td>1.32</td>\n",
       "      <td>146.0</td>\n",
       "      <td>88.0</td>\n",
       "      <td>140.0</td>\n",
       "      <td>88.0</td>\n",
       "      <td>90.4</td>\n",
       "      <td>171.4</td>\n",
       "      <td>30.8</td>\n",
       "      <td>38.0</td>\n",
       "      <td>40.0</td>\n",
       "      <td>33.2</td>\n",
       "      <td>107.9</td>\n",
       "      <td>NaN</td>\n",
       "    </tr>\n",
       "    <tr>\n",
       "      <th>2</th>\n",
       "      <td>83734</td>\n",
       "      <td>1.0</td>\n",
       "      <td>NaN</td>\n",
       "      <td>NaN</td>\n",
       "      <td>1</td>\n",
       "      <td>1</td>\n",
       "      <td>78</td>\n",
       "      <td>3</td>\n",
       "      <td>1.0</td>\n",
       "      <td>3.0</td>\n",
       "      <td>1.0</td>\n",
       "      <td>2</td>\n",
       "      <td>12400.01</td>\n",
       "      <td>1</td>\n",
       "      <td>131</td>\n",
       "      <td>1.51</td>\n",
       "      <td>138.0</td>\n",
       "      <td>46.0</td>\n",
       "      <td>132.0</td>\n",
       "      <td>44.0</td>\n",
       "      <td>83.4</td>\n",
       "      <td>170.1</td>\n",
       "      <td>28.8</td>\n",
       "      <td>35.6</td>\n",
       "      <td>37.0</td>\n",
       "      <td>31.0</td>\n",
       "      <td>116.5</td>\n",
       "      <td>2.0</td>\n",
       "    </tr>\n",
       "    <tr>\n",
       "      <th>3</th>\n",
       "      <td>83735</td>\n",
       "      <td>2.0</td>\n",
       "      <td>1.0</td>\n",
       "      <td>1.0</td>\n",
       "      <td>2</td>\n",
       "      <td>2</td>\n",
       "      <td>56</td>\n",
       "      <td>3</td>\n",
       "      <td>1.0</td>\n",
       "      <td>5.0</td>\n",
       "      <td>6.0</td>\n",
       "      <td>1</td>\n",
       "      <td>102718.00</td>\n",
       "      <td>1</td>\n",
       "      <td>131</td>\n",
       "      <td>5.00</td>\n",
       "      <td>132.0</td>\n",
       "      <td>72.0</td>\n",
       "      <td>134.0</td>\n",
       "      <td>68.0</td>\n",
       "      <td>109.8</td>\n",
       "      <td>160.9</td>\n",
       "      <td>42.4</td>\n",
       "      <td>38.5</td>\n",
       "      <td>37.7</td>\n",
       "      <td>38.3</td>\n",
       "      <td>110.1</td>\n",
       "      <td>2.0</td>\n",
       "    </tr>\n",
       "    <tr>\n",
       "      <th>4</th>\n",
       "      <td>83736</td>\n",
       "      <td>2.0</td>\n",
       "      <td>1.0</td>\n",
       "      <td>1.0</td>\n",
       "      <td>2</td>\n",
       "      <td>2</td>\n",
       "      <td>42</td>\n",
       "      <td>4</td>\n",
       "      <td>1.0</td>\n",
       "      <td>4.0</td>\n",
       "      <td>3.0</td>\n",
       "      <td>5</td>\n",
       "      <td>17627.67</td>\n",
       "      <td>2</td>\n",
       "      <td>126</td>\n",
       "      <td>1.23</td>\n",
       "      <td>100.0</td>\n",
       "      <td>70.0</td>\n",
       "      <td>114.0</td>\n",
       "      <td>54.0</td>\n",
       "      <td>55.2</td>\n",
       "      <td>164.9</td>\n",
       "      <td>20.3</td>\n",
       "      <td>37.4</td>\n",
       "      <td>36.0</td>\n",
       "      <td>27.2</td>\n",
       "      <td>80.4</td>\n",
       "      <td>2.0</td>\n",
       "    </tr>\n",
       "  </tbody>\n",
       "</table>\n",
       "</div>"
      ],
      "text/plain": [
       "    SEQN  ALQ101  ALQ110  ALQ130  SMQ020  RIAGENDR  RIDAGEYR  RIDRETH1   \n",
       "0  83732     1.0     NaN     1.0       1         1        62         3  \\\n",
       "1  83733     1.0     NaN     6.0       1         1        53         3   \n",
       "2  83734     1.0     NaN     NaN       1         1        78         3   \n",
       "3  83735     2.0     1.0     1.0       2         2        56         3   \n",
       "4  83736     2.0     1.0     1.0       2         2        42         4   \n",
       "\n",
       "   DMDCITZN  DMDEDUC2  DMDMARTL  DMDHHSIZ   WTINT2YR  SDMVPSU  SDMVSTRA   \n",
       "0       1.0       5.0       1.0         2  134671.37        1       125  \\\n",
       "1       2.0       3.0       3.0         1   24328.56        1       125   \n",
       "2       1.0       3.0       1.0         2   12400.01        1       131   \n",
       "3       1.0       5.0       6.0         1  102718.00        1       131   \n",
       "4       1.0       4.0       3.0         5   17627.67        2       126   \n",
       "\n",
       "   INDFMPIR  BPXSY1  BPXDI1  BPXSY2  BPXDI2  BMXWT  BMXHT  BMXBMI  BMXLEG   \n",
       "0      4.39   128.0    70.0   124.0    64.0   94.8  184.5    27.8    43.3  \\\n",
       "1      1.32   146.0    88.0   140.0    88.0   90.4  171.4    30.8    38.0   \n",
       "2      1.51   138.0    46.0   132.0    44.0   83.4  170.1    28.8    35.6   \n",
       "3      5.00   132.0    72.0   134.0    68.0  109.8  160.9    42.4    38.5   \n",
       "4      1.23   100.0    70.0   114.0    54.0   55.2  164.9    20.3    37.4   \n",
       "\n",
       "   BMXARML  BMXARMC  BMXWAIST  HIQ210  \n",
       "0     43.6     35.9     101.1     2.0  \n",
       "1     40.0     33.2     107.9     NaN  \n",
       "2     37.0     31.0     116.5     2.0  \n",
       "3     37.7     38.3     110.1     2.0  \n",
       "4     36.0     27.2      80.4     2.0  "
      ]
     },
     "execution_count": 2,
     "metadata": {},
     "output_type": "execute_result"
    }
   ],
   "source": [
    "# NHANES 2015-2016 data\n",
    "df = pd.read_csv('csv/nhanes_2015_2016.csv')\n",
    "df.head()"
   ]
  },
  {
   "cell_type": "markdown",
   "metadata": {
    "colab_type": "text",
    "id": "iaWM5HAlmcwY"
   },
   "source": [
    "## Keep columns\n",
    "\n",
    "We want to keep only the body measurement columns, so we will only keep the columns with \"BMX\" in the name."
   ]
  },
  {
   "cell_type": "code",
   "execution_count": 3,
   "metadata": {
    "ExecuteTime": {
     "end_time": "2023-10-01T23:12:35.819157900Z",
     "start_time": "2023-10-01T23:12:35.776276500Z"
    },
    "colab": {},
    "colab_type": "code",
    "id": "U1RFm9g5mcwZ"
   },
   "outputs": [
    {
     "data": {
      "text/plain": [
       "Index(['SEQN', 'ALQ101', 'ALQ110', 'ALQ130', 'SMQ020', 'RIAGENDR', 'RIDAGEYR',\n",
       "       'RIDRETH1', 'DMDCITZN', 'DMDEDUC2', 'DMDMARTL', 'DMDHHSIZ', 'WTINT2YR',\n",
       "       'SDMVPSU', 'SDMVSTRA', 'INDFMPIR', 'BPXSY1', 'BPXDI1', 'BPXSY2',\n",
       "       'BPXDI2', 'BMXWT', 'BMXHT', 'BMXBMI', 'BMXLEG', 'BMXARML', 'BMXARMC',\n",
       "       'BMXWAIST', 'HIQ210'],\n",
       "      dtype='object')"
      ]
     },
     "execution_count": 3,
     "metadata": {},
     "output_type": "execute_result"
    }
   ],
   "source": [
    "# Get columns names\n",
    "df.columns"
   ]
  },
  {
   "cell_type": "code",
   "execution_count": 4,
   "metadata": {
    "ExecuteTime": {
     "end_time": "2023-10-01T23:12:35.856768600Z",
     "start_time": "2023-10-01T23:12:35.807685800Z"
    },
    "colab": {},
    "colab_type": "code",
    "id": "ALi9_6dTmcwb"
   },
   "outputs": [
    {
     "data": {
      "text/plain": [
       "['BMXWT', 'BMXHT', 'BMXBMI', 'BMXLEG', 'BMXARML', 'BMXARMC', 'BMXWAIST']"
      ]
     },
     "execution_count": 4,
     "metadata": {},
     "output_type": "execute_result"
    }
   ],
   "source": [
    "keep = [i for i in df.columns if 'BMX' in i]\n",
    "keep"
   ]
  },
  {
   "cell_type": "markdown",
   "metadata": {
    "colab_type": "text",
    "id": "bmgBtWvnmcws"
   },
   "source": [
    "## Indexing and selecting data\n",
    "\n",
    "There are three methods for [indexing and selecting data with pandas](https://pandas.pydata.org/docs/user_guide/indexing.html).\n",
    "\n",
    "- df[column indexing]\n",
    "\n",
    "- df.loc[row labels or bool, col labels or bool]\n",
    "\n",
    "- df.iloc[row int or bool, col int or bool]"
   ]
  },
  {
   "cell_type": "code",
   "execution_count": 5,
   "metadata": {
    "ExecuteTime": {
     "end_time": "2023-10-01T23:12:35.857821Z",
     "start_time": "2023-10-01T23:12:35.810828700Z"
    }
   },
   "outputs": [
    {
     "data": {
      "text/html": [
       "<div>\n",
       "<style scoped>\n",
       "    .dataframe tbody tr th:only-of-type {\n",
       "        vertical-align: middle;\n",
       "    }\n",
       "\n",
       "    .dataframe tbody tr th {\n",
       "        vertical-align: top;\n",
       "    }\n",
       "\n",
       "    .dataframe thead th {\n",
       "        text-align: right;\n",
       "    }\n",
       "</style>\n",
       "<table border=\"1\" class=\"dataframe\">\n",
       "  <thead>\n",
       "    <tr style=\"text-align: right;\">\n",
       "      <th></th>\n",
       "      <th>BMXWT</th>\n",
       "      <th>BMXHT</th>\n",
       "      <th>BMXBMI</th>\n",
       "      <th>BMXLEG</th>\n",
       "      <th>BMXARML</th>\n",
       "      <th>BMXARMC</th>\n",
       "      <th>BMXWAIST</th>\n",
       "    </tr>\n",
       "  </thead>\n",
       "  <tbody>\n",
       "    <tr>\n",
       "      <th>0</th>\n",
       "      <td>94.8</td>\n",
       "      <td>184.5</td>\n",
       "      <td>27.8</td>\n",
       "      <td>43.3</td>\n",
       "      <td>43.6</td>\n",
       "      <td>35.9</td>\n",
       "      <td>101.1</td>\n",
       "    </tr>\n",
       "    <tr>\n",
       "      <th>1</th>\n",
       "      <td>90.4</td>\n",
       "      <td>171.4</td>\n",
       "      <td>30.8</td>\n",
       "      <td>38.0</td>\n",
       "      <td>40.0</td>\n",
       "      <td>33.2</td>\n",
       "      <td>107.9</td>\n",
       "    </tr>\n",
       "    <tr>\n",
       "      <th>2</th>\n",
       "      <td>83.4</td>\n",
       "      <td>170.1</td>\n",
       "      <td>28.8</td>\n",
       "      <td>35.6</td>\n",
       "      <td>37.0</td>\n",
       "      <td>31.0</td>\n",
       "      <td>116.5</td>\n",
       "    </tr>\n",
       "    <tr>\n",
       "      <th>3</th>\n",
       "      <td>109.8</td>\n",
       "      <td>160.9</td>\n",
       "      <td>42.4</td>\n",
       "      <td>38.5</td>\n",
       "      <td>37.7</td>\n",
       "      <td>38.3</td>\n",
       "      <td>110.1</td>\n",
       "    </tr>\n",
       "    <tr>\n",
       "      <th>4</th>\n",
       "      <td>55.2</td>\n",
       "      <td>164.9</td>\n",
       "      <td>20.3</td>\n",
       "      <td>37.4</td>\n",
       "      <td>36.0</td>\n",
       "      <td>27.2</td>\n",
       "      <td>80.4</td>\n",
       "    </tr>\n",
       "  </tbody>\n",
       "</table>\n",
       "</div>"
      ],
      "text/plain": [
       "   BMXWT  BMXHT  BMXBMI  BMXLEG  BMXARML  BMXARMC  BMXWAIST\n",
       "0   94.8  184.5    27.8    43.3     43.6     35.9     101.1\n",
       "1   90.4  171.4    30.8    38.0     40.0     33.2     107.9\n",
       "2   83.4  170.1    28.8    35.6     37.0     31.0     116.5\n",
       "3  109.8  160.9    42.4    38.5     37.7     38.3     110.1\n",
       "4   55.2  164.9    20.3    37.4     36.0     27.2      80.4"
      ]
     },
     "execution_count": 5,
     "metadata": {},
     "output_type": "execute_result"
    }
   ],
   "source": [
    "# Keep columns\n",
    "df_BMX = df[keep]\n",
    "df_BMX.head()"
   ]
  },
  {
   "cell_type": "code",
   "execution_count": 6,
   "metadata": {
    "ExecuteTime": {
     "end_time": "2023-10-01T23:12:35.857821Z",
     "start_time": "2023-10-01T23:12:35.828594Z"
    },
    "colab": {},
    "colab_type": "code",
    "id": "6ONAajAOmcws"
   },
   "outputs": [
    {
     "data": {
      "text/html": [
       "<div>\n",
       "<style scoped>\n",
       "    .dataframe tbody tr th:only-of-type {\n",
       "        vertical-align: middle;\n",
       "    }\n",
       "\n",
       "    .dataframe tbody tr th {\n",
       "        vertical-align: top;\n",
       "    }\n",
       "\n",
       "    .dataframe thead th {\n",
       "        text-align: right;\n",
       "    }\n",
       "</style>\n",
       "<table border=\"1\" class=\"dataframe\">\n",
       "  <thead>\n",
       "    <tr style=\"text-align: right;\">\n",
       "      <th></th>\n",
       "      <th>BMXWT</th>\n",
       "      <th>BMXHT</th>\n",
       "      <th>BMXBMI</th>\n",
       "      <th>BMXLEG</th>\n",
       "      <th>BMXARML</th>\n",
       "      <th>BMXARMC</th>\n",
       "      <th>BMXWAIST</th>\n",
       "    </tr>\n",
       "  </thead>\n",
       "  <tbody>\n",
       "    <tr>\n",
       "      <th>0</th>\n",
       "      <td>94.8</td>\n",
       "      <td>184.5</td>\n",
       "      <td>27.8</td>\n",
       "      <td>43.3</td>\n",
       "      <td>43.6</td>\n",
       "      <td>35.9</td>\n",
       "      <td>101.1</td>\n",
       "    </tr>\n",
       "    <tr>\n",
       "      <th>1</th>\n",
       "      <td>90.4</td>\n",
       "      <td>171.4</td>\n",
       "      <td>30.8</td>\n",
       "      <td>38.0</td>\n",
       "      <td>40.0</td>\n",
       "      <td>33.2</td>\n",
       "      <td>107.9</td>\n",
       "    </tr>\n",
       "    <tr>\n",
       "      <th>2</th>\n",
       "      <td>83.4</td>\n",
       "      <td>170.1</td>\n",
       "      <td>28.8</td>\n",
       "      <td>35.6</td>\n",
       "      <td>37.0</td>\n",
       "      <td>31.0</td>\n",
       "      <td>116.5</td>\n",
       "    </tr>\n",
       "    <tr>\n",
       "      <th>3</th>\n",
       "      <td>109.8</td>\n",
       "      <td>160.9</td>\n",
       "      <td>42.4</td>\n",
       "      <td>38.5</td>\n",
       "      <td>37.7</td>\n",
       "      <td>38.3</td>\n",
       "      <td>110.1</td>\n",
       "    </tr>\n",
       "    <tr>\n",
       "      <th>4</th>\n",
       "      <td>55.2</td>\n",
       "      <td>164.9</td>\n",
       "      <td>20.3</td>\n",
       "      <td>37.4</td>\n",
       "      <td>36.0</td>\n",
       "      <td>27.2</td>\n",
       "      <td>80.4</td>\n",
       "    </tr>\n",
       "  </tbody>\n",
       "</table>\n",
       "</div>"
      ],
      "text/plain": [
       "   BMXWT  BMXHT  BMXBMI  BMXLEG  BMXARML  BMXARMC  BMXWAIST\n",
       "0   94.8  184.5    27.8    43.3     43.6     35.9     101.1\n",
       "1   90.4  171.4    30.8    38.0     40.0     33.2     107.9\n",
       "2   83.4  170.1    28.8    35.6     37.0     31.0     116.5\n",
       "3  109.8  160.9    42.4    38.5     37.7     38.3     110.1\n",
       "4   55.2  164.9    20.3    37.4     36.0     27.2      80.4"
      ]
     },
     "execution_count": 6,
     "metadata": {},
     "output_type": "execute_result"
    }
   ],
   "source": [
    "df.loc[:, keep].head()"
   ]
  },
  {
   "cell_type": "code",
   "execution_count": 7,
   "metadata": {
    "ExecuteTime": {
     "end_time": "2023-10-01T23:12:35.858347Z",
     "start_time": "2023-10-01T23:12:35.850522400Z"
    },
    "colab": {},
    "colab_type": "code",
    "id": "sjwUOKz3mcwv"
   },
   "outputs": [
    {
     "data": {
      "text/plain": [
       "array([False, False, False, False, False, False, False, False, False,\n",
       "       False, False, False, False, False, False, False, False, False,\n",
       "       False, False,  True,  True,  True,  True,  True,  True,  True,\n",
       "       False])"
      ]
     },
     "execution_count": 7,
     "metadata": {},
     "output_type": "execute_result"
    }
   ],
   "source": [
    "keep_idx = np.isin(df.columns, keep)\n",
    "keep_idx"
   ]
  },
  {
   "cell_type": "code",
   "execution_count": 8,
   "metadata": {
    "ExecuteTime": {
     "end_time": "2023-10-01T23:12:35.868247300Z",
     "start_time": "2023-10-01T23:12:35.853113200Z"
    },
    "colab": {},
    "colab_type": "code",
    "id": "gtwY8Rl1mcw2"
   },
   "outputs": [
    {
     "data": {
      "text/html": [
       "<div>\n",
       "<style scoped>\n",
       "    .dataframe tbody tr th:only-of-type {\n",
       "        vertical-align: middle;\n",
       "    }\n",
       "\n",
       "    .dataframe tbody tr th {\n",
       "        vertical-align: top;\n",
       "    }\n",
       "\n",
       "    .dataframe thead th {\n",
       "        text-align: right;\n",
       "    }\n",
       "</style>\n",
       "<table border=\"1\" class=\"dataframe\">\n",
       "  <thead>\n",
       "    <tr style=\"text-align: right;\">\n",
       "      <th></th>\n",
       "      <th>BMXWT</th>\n",
       "      <th>BMXHT</th>\n",
       "      <th>BMXBMI</th>\n",
       "      <th>BMXLEG</th>\n",
       "      <th>BMXARML</th>\n",
       "      <th>BMXARMC</th>\n",
       "      <th>BMXWAIST</th>\n",
       "    </tr>\n",
       "  </thead>\n",
       "  <tbody>\n",
       "    <tr>\n",
       "      <th>0</th>\n",
       "      <td>94.8</td>\n",
       "      <td>184.5</td>\n",
       "      <td>27.8</td>\n",
       "      <td>43.3</td>\n",
       "      <td>43.6</td>\n",
       "      <td>35.9</td>\n",
       "      <td>101.1</td>\n",
       "    </tr>\n",
       "    <tr>\n",
       "      <th>1</th>\n",
       "      <td>90.4</td>\n",
       "      <td>171.4</td>\n",
       "      <td>30.8</td>\n",
       "      <td>38.0</td>\n",
       "      <td>40.0</td>\n",
       "      <td>33.2</td>\n",
       "      <td>107.9</td>\n",
       "    </tr>\n",
       "    <tr>\n",
       "      <th>2</th>\n",
       "      <td>83.4</td>\n",
       "      <td>170.1</td>\n",
       "      <td>28.8</td>\n",
       "      <td>35.6</td>\n",
       "      <td>37.0</td>\n",
       "      <td>31.0</td>\n",
       "      <td>116.5</td>\n",
       "    </tr>\n",
       "    <tr>\n",
       "      <th>3</th>\n",
       "      <td>109.8</td>\n",
       "      <td>160.9</td>\n",
       "      <td>42.4</td>\n",
       "      <td>38.5</td>\n",
       "      <td>37.7</td>\n",
       "      <td>38.3</td>\n",
       "      <td>110.1</td>\n",
       "    </tr>\n",
       "    <tr>\n",
       "      <th>4</th>\n",
       "      <td>55.2</td>\n",
       "      <td>164.9</td>\n",
       "      <td>20.3</td>\n",
       "      <td>37.4</td>\n",
       "      <td>36.0</td>\n",
       "      <td>27.2</td>\n",
       "      <td>80.4</td>\n",
       "    </tr>\n",
       "  </tbody>\n",
       "</table>\n",
       "</div>"
      ],
      "text/plain": [
       "   BMXWT  BMXHT  BMXBMI  BMXLEG  BMXARML  BMXARMC  BMXWAIST\n",
       "0   94.8  184.5    27.8    43.3     43.6     35.9     101.1\n",
       "1   90.4  171.4    30.8    38.0     40.0     33.2     107.9\n",
       "2   83.4  170.1    28.8    35.6     37.0     31.0     116.5\n",
       "3  109.8  160.9    42.4    38.5     37.7     38.3     110.1\n",
       "4   55.2  164.9    20.3    37.4     36.0     27.2      80.4"
      ]
     },
     "execution_count": 8,
     "metadata": {},
     "output_type": "execute_result"
    }
   ],
   "source": [
    "df.iloc[:, keep_idx].head()  # Indexing with boolean list"
   ]
  },
  {
   "cell_type": "markdown",
   "metadata": {
    "colab_type": "text",
    "id": "zvju43u7mcw5"
   },
   "source": [
    "## Selection by conditions\n",
    "\n",
    "Lets only look at rows who \"BMXWAIST\" is larger than the median."
   ]
  },
  {
   "cell_type": "code",
   "execution_count": 9,
   "metadata": {
    "ExecuteTime": {
     "end_time": "2023-10-01T23:12:35.911684300Z",
     "start_time": "2023-10-01T23:12:35.869299700Z"
    },
    "colab": {},
    "colab_type": "code",
    "id": "MBvQTHn5mcw5"
   },
   "outputs": [
    {
     "data": {
      "text/plain": [
       "98.3"
      ]
     },
     "execution_count": 9,
     "metadata": {},
     "output_type": "execute_result"
    }
   ],
   "source": [
    "# Get the median of 'BMXWAIST'\n",
    "waist_median = df_BMX['BMXWAIST'].median()\n",
    "waist_median"
   ]
  },
  {
   "cell_type": "code",
   "execution_count": 10,
   "metadata": {
    "ExecuteTime": {
     "end_time": "2023-10-01T23:12:35.957658Z",
     "start_time": "2023-10-01T23:12:35.883417100Z"
    },
    "colab": {},
    "colab_type": "code",
    "id": "bNdQvxRcmcw-"
   },
   "outputs": [
    {
     "data": {
      "text/html": [
       "<div>\n",
       "<style scoped>\n",
       "    .dataframe tbody tr th:only-of-type {\n",
       "        vertical-align: middle;\n",
       "    }\n",
       "\n",
       "    .dataframe tbody tr th {\n",
       "        vertical-align: top;\n",
       "    }\n",
       "\n",
       "    .dataframe thead th {\n",
       "        text-align: right;\n",
       "    }\n",
       "</style>\n",
       "<table border=\"1\" class=\"dataframe\">\n",
       "  <thead>\n",
       "    <tr style=\"text-align: right;\">\n",
       "      <th></th>\n",
       "      <th>BMXWT</th>\n",
       "      <th>BMXHT</th>\n",
       "      <th>BMXBMI</th>\n",
       "      <th>BMXLEG</th>\n",
       "      <th>BMXARML</th>\n",
       "      <th>BMXARMC</th>\n",
       "      <th>BMXWAIST</th>\n",
       "    </tr>\n",
       "  </thead>\n",
       "  <tbody>\n",
       "    <tr>\n",
       "      <th>0</th>\n",
       "      <td>94.8</td>\n",
       "      <td>184.5</td>\n",
       "      <td>27.8</td>\n",
       "      <td>43.3</td>\n",
       "      <td>43.6</td>\n",
       "      <td>35.9</td>\n",
       "      <td>101.1</td>\n",
       "    </tr>\n",
       "    <tr>\n",
       "      <th>1</th>\n",
       "      <td>90.4</td>\n",
       "      <td>171.4</td>\n",
       "      <td>30.8</td>\n",
       "      <td>38.0</td>\n",
       "      <td>40.0</td>\n",
       "      <td>33.2</td>\n",
       "      <td>107.9</td>\n",
       "    </tr>\n",
       "    <tr>\n",
       "      <th>2</th>\n",
       "      <td>83.4</td>\n",
       "      <td>170.1</td>\n",
       "      <td>28.8</td>\n",
       "      <td>35.6</td>\n",
       "      <td>37.0</td>\n",
       "      <td>31.0</td>\n",
       "      <td>116.5</td>\n",
       "    </tr>\n",
       "    <tr>\n",
       "      <th>3</th>\n",
       "      <td>109.8</td>\n",
       "      <td>160.9</td>\n",
       "      <td>42.4</td>\n",
       "      <td>38.5</td>\n",
       "      <td>37.7</td>\n",
       "      <td>38.3</td>\n",
       "      <td>110.1</td>\n",
       "    </tr>\n",
       "    <tr>\n",
       "      <th>9</th>\n",
       "      <td>108.3</td>\n",
       "      <td>179.4</td>\n",
       "      <td>33.6</td>\n",
       "      <td>46.0</td>\n",
       "      <td>44.1</td>\n",
       "      <td>38.5</td>\n",
       "      <td>116.0</td>\n",
       "    </tr>\n",
       "  </tbody>\n",
       "</table>\n",
       "</div>"
      ],
      "text/plain": [
       "   BMXWT  BMXHT  BMXBMI  BMXLEG  BMXARML  BMXARMC  BMXWAIST\n",
       "0   94.8  184.5    27.8    43.3     43.6     35.9     101.1\n",
       "1   90.4  171.4    30.8    38.0     40.0     33.2     107.9\n",
       "2   83.4  170.1    28.8    35.6     37.0     31.0     116.5\n",
       "3  109.8  160.9    42.4    38.5     37.7     38.3     110.1\n",
       "9  108.3  179.4    33.6    46.0     44.1     38.5     116.0"
      ]
     },
     "execution_count": 10,
     "metadata": {},
     "output_type": "execute_result"
    }
   ],
   "source": [
    "condition1 = df_BMX['BMXWAIST'] > waist_median\n",
    "df_BMX[condition1].head()"
   ]
  },
  {
   "cell_type": "markdown",
   "metadata": {},
   "source": [
    "Lets add another condition, that \"BMXLEG\" must be less than 32."
   ]
  },
  {
   "cell_type": "code",
   "execution_count": 11,
   "metadata": {
    "ExecuteTime": {
     "end_time": "2023-10-01T23:12:35.965980800Z",
     "start_time": "2023-10-01T23:12:35.898591Z"
    },
    "colab": {},
    "colab_type": "code",
    "id": "Z1h6cnwKmcxB"
   },
   "outputs": [
    {
     "data": {
      "text/html": [
       "<div>\n",
       "<style scoped>\n",
       "    .dataframe tbody tr th:only-of-type {\n",
       "        vertical-align: middle;\n",
       "    }\n",
       "\n",
       "    .dataframe tbody tr th {\n",
       "        vertical-align: top;\n",
       "    }\n",
       "\n",
       "    .dataframe thead th {\n",
       "        text-align: right;\n",
       "    }\n",
       "</style>\n",
       "<table border=\"1\" class=\"dataframe\">\n",
       "  <thead>\n",
       "    <tr style=\"text-align: right;\">\n",
       "      <th></th>\n",
       "      <th>BMXWT</th>\n",
       "      <th>BMXHT</th>\n",
       "      <th>BMXBMI</th>\n",
       "      <th>BMXLEG</th>\n",
       "      <th>BMXARML</th>\n",
       "      <th>BMXARMC</th>\n",
       "      <th>BMXWAIST</th>\n",
       "    </tr>\n",
       "  </thead>\n",
       "  <tbody>\n",
       "    <tr>\n",
       "      <th>15</th>\n",
       "      <td>80.5</td>\n",
       "      <td>150.8</td>\n",
       "      <td>35.4</td>\n",
       "      <td>31.6</td>\n",
       "      <td>32.7</td>\n",
       "      <td>33.7</td>\n",
       "      <td>113.5</td>\n",
       "    </tr>\n",
       "    <tr>\n",
       "      <th>27</th>\n",
       "      <td>75.6</td>\n",
       "      <td>145.2</td>\n",
       "      <td>35.9</td>\n",
       "      <td>31.0</td>\n",
       "      <td>33.1</td>\n",
       "      <td>36.0</td>\n",
       "      <td>108.0</td>\n",
       "    </tr>\n",
       "    <tr>\n",
       "      <th>39</th>\n",
       "      <td>63.7</td>\n",
       "      <td>147.9</td>\n",
       "      <td>29.1</td>\n",
       "      <td>26.0</td>\n",
       "      <td>34.0</td>\n",
       "      <td>31.5</td>\n",
       "      <td>110.0</td>\n",
       "    </tr>\n",
       "    <tr>\n",
       "      <th>52</th>\n",
       "      <td>105.9</td>\n",
       "      <td>157.7</td>\n",
       "      <td>42.6</td>\n",
       "      <td>29.2</td>\n",
       "      <td>35.0</td>\n",
       "      <td>40.7</td>\n",
       "      <td>129.1</td>\n",
       "    </tr>\n",
       "    <tr>\n",
       "      <th>55</th>\n",
       "      <td>77.5</td>\n",
       "      <td>148.3</td>\n",
       "      <td>35.2</td>\n",
       "      <td>30.5</td>\n",
       "      <td>34.0</td>\n",
       "      <td>34.4</td>\n",
       "      <td>107.6</td>\n",
       "    </tr>\n",
       "  </tbody>\n",
       "</table>\n",
       "</div>"
      ],
      "text/plain": [
       "    BMXWT  BMXHT  BMXBMI  BMXLEG  BMXARML  BMXARMC  BMXWAIST\n",
       "15   80.5  150.8    35.4    31.6     32.7     33.7     113.5\n",
       "27   75.6  145.2    35.9    31.0     33.1     36.0     108.0\n",
       "39   63.7  147.9    29.1    26.0     34.0     31.5     110.0\n",
       "52  105.9  157.7    42.6    29.2     35.0     40.7     129.1\n",
       "55   77.5  148.3    35.2    30.5     34.0     34.4     107.6"
      ]
     },
     "execution_count": 11,
     "metadata": {},
     "output_type": "execute_result"
    }
   ],
   "source": [
    "condition2 = df_BMX['BMXLEG'] < 32\n",
    "df_BMX[condition1 & condition2].head()"
   ]
  },
  {
   "cell_type": "markdown",
   "metadata": {},
   "source": [
    "Lets make a small dataframe and give it a new index so can more clearly see the differences between `.loc[]` and `.iloc[]`."
   ]
  },
  {
   "cell_type": "code",
   "execution_count": 12,
   "metadata": {
    "ExecuteTime": {
     "end_time": "2023-10-01T23:12:35.979048100Z",
     "start_time": "2023-10-01T23:12:35.913768900Z"
    },
    "colab": {},
    "colab_type": "code",
    "id": "0Oznkq8GmcxF"
   },
   "outputs": [
    {
     "data": {
      "text/html": [
       "<div>\n",
       "<style scoped>\n",
       "    .dataframe tbody tr th:only-of-type {\n",
       "        vertical-align: middle;\n",
       "    }\n",
       "\n",
       "    .dataframe tbody tr th {\n",
       "        vertical-align: top;\n",
       "    }\n",
       "\n",
       "    .dataframe thead th {\n",
       "        text-align: right;\n",
       "    }\n",
       "</style>\n",
       "<table border=\"1\" class=\"dataframe\">\n",
       "  <thead>\n",
       "    <tr style=\"text-align: right;\">\n",
       "      <th></th>\n",
       "      <th>BMXWT</th>\n",
       "      <th>BMXHT</th>\n",
       "      <th>BMXBMI</th>\n",
       "      <th>BMXLEG</th>\n",
       "      <th>BMXARML</th>\n",
       "      <th>BMXARMC</th>\n",
       "      <th>BMXWAIST</th>\n",
       "    </tr>\n",
       "  </thead>\n",
       "  <tbody>\n",
       "    <tr>\n",
       "      <th>a</th>\n",
       "      <td>80.5</td>\n",
       "      <td>150.8</td>\n",
       "      <td>35.4</td>\n",
       "      <td>31.6</td>\n",
       "      <td>32.7</td>\n",
       "      <td>33.7</td>\n",
       "      <td>113.5</td>\n",
       "    </tr>\n",
       "    <tr>\n",
       "      <th>b</th>\n",
       "      <td>75.6</td>\n",
       "      <td>145.2</td>\n",
       "      <td>35.9</td>\n",
       "      <td>31.0</td>\n",
       "      <td>33.1</td>\n",
       "      <td>36.0</td>\n",
       "      <td>108.0</td>\n",
       "    </tr>\n",
       "    <tr>\n",
       "      <th>c</th>\n",
       "      <td>63.7</td>\n",
       "      <td>147.9</td>\n",
       "      <td>29.1</td>\n",
       "      <td>26.0</td>\n",
       "      <td>34.0</td>\n",
       "      <td>31.5</td>\n",
       "      <td>110.0</td>\n",
       "    </tr>\n",
       "    <tr>\n",
       "      <th>d</th>\n",
       "      <td>105.9</td>\n",
       "      <td>157.7</td>\n",
       "      <td>42.6</td>\n",
       "      <td>29.2</td>\n",
       "      <td>35.0</td>\n",
       "      <td>40.7</td>\n",
       "      <td>129.1</td>\n",
       "    </tr>\n",
       "    <tr>\n",
       "      <th>e</th>\n",
       "      <td>77.5</td>\n",
       "      <td>148.3</td>\n",
       "      <td>35.2</td>\n",
       "      <td>30.5</td>\n",
       "      <td>34.0</td>\n",
       "      <td>34.4</td>\n",
       "      <td>107.6</td>\n",
       "    </tr>\n",
       "  </tbody>\n",
       "</table>\n",
       "</div>"
      ],
      "text/plain": [
       "   BMXWT  BMXHT  BMXBMI  BMXLEG  BMXARML  BMXARMC  BMXWAIST\n",
       "a   80.5  150.8    35.4    31.6     32.7     33.7     113.5\n",
       "b   75.6  145.2    35.9    31.0     33.1     36.0     108.0\n",
       "c   63.7  147.9    29.1    26.0     34.0     31.5     110.0\n",
       "d  105.9  157.7    42.6    29.2     35.0     40.7     129.1\n",
       "e   77.5  148.3    35.2    30.5     34.0     34.4     107.6"
      ]
     },
     "execution_count": 12,
     "metadata": {},
     "output_type": "execute_result"
    }
   ],
   "source": [
    "tmp = df_BMX.loc[condition1 & condition2, :].head()\n",
    "tmp.index = ['a', 'b', 'c', 'd', 'e']\n",
    "tmp"
   ]
  },
  {
   "cell_type": "code",
   "execution_count": 13,
   "metadata": {
    "ExecuteTime": {
     "end_time": "2023-10-01T23:12:36.000967800Z",
     "start_time": "2023-10-01T23:12:35.929423200Z"
    },
    "colab": {},
    "colab_type": "code",
    "id": "-NVXIb54mcxJ"
   },
   "outputs": [
    {
     "data": {
      "text/plain": [
       "a    31.6\n",
       "b    31.0\n",
       "Name: BMXLEG, dtype: float64"
      ]
     },
     "execution_count": 13,
     "metadata": {},
     "output_type": "execute_result"
    }
   ],
   "source": [
    "tmp.loc[['a', 'b'], 'BMXLEG']"
   ]
  },
  {
   "cell_type": "code",
   "execution_count": 14,
   "metadata": {
    "ExecuteTime": {
     "end_time": "2023-10-01T23:12:36.014006600Z",
     "start_time": "2023-10-01T23:12:35.944031600Z"
    },
    "colab": {},
    "colab_type": "code",
    "id": "l_5tUyMYmcxL"
   },
   "outputs": [
    {
     "data": {
      "text/plain": [
       "a    31.6\n",
       "b    31.0\n",
       "Name: BMXLEG, dtype: float64"
      ]
     },
     "execution_count": 14,
     "metadata": {},
     "output_type": "execute_result"
    }
   ],
   "source": [
    "tmp.iloc[[0, 1], 3]"
   ]
  },
  {
   "cell_type": "markdown",
   "metadata": {
    "colab_type": "text",
    "id": "-sSTrqkNmcxN"
   },
   "source": [
    "## Common errors and how to read them\n",
    "\n",
    "### Problem"
   ]
  },
  {
   "cell_type": "code",
   "execution_count": 15,
   "metadata": {
    "ExecuteTime": {
     "end_time": "2023-10-01T23:12:36.014526200Z",
     "start_time": "2023-10-01T23:12:35.960261200Z"
    },
    "colab": {},
    "colab_type": "code",
    "id": "xocUtLX9mcxO"
   },
   "outputs": [],
   "source": [
    "# tmp[:, 'BMXBMI'] # error"
   ]
  },
  {
   "cell_type": "markdown",
   "metadata": {
    "colab_type": "text",
    "id": "Nd3g-kDlmcxQ"
   },
   "source": [
    "The above gives: `InvalidIndexError: (slice(None, None, None), 'BMXBMI')`\n",
    "\n",
    "The `[]` method uses hashes to identify the columns to keep, and each column has an associated hash. A \"slice\" (a subset of rows and columns) does not have an associated hash, thus causing this TypeError."
   ]
  },
  {
   "cell_type": "code",
   "execution_count": 16,
   "metadata": {
    "ExecuteTime": {
     "end_time": "2023-10-01T23:12:36.032307900Z",
     "start_time": "2023-10-01T23:12:35.975372Z"
    },
    "colab": {},
    "colab_type": "code",
    "id": "LwRx-ZNVmcxQ"
   },
   "outputs": [
    {
     "data": {
      "text/plain": [
       "a    35.4\n",
       "b    35.9\n",
       "c    29.1\n",
       "d    42.6\n",
       "e    35.2\n",
       "Name: BMXBMI, dtype: float64"
      ]
     },
     "execution_count": 16,
     "metadata": {},
     "output_type": "execute_result"
    }
   ],
   "source": [
    "tmp.loc[:, 'BMXBMI']"
   ]
  },
  {
   "cell_type": "code",
   "execution_count": 17,
   "metadata": {
    "ExecuteTime": {
     "end_time": "2023-10-01T23:12:36.045869600Z",
     "start_time": "2023-10-01T23:12:35.991038100Z"
    },
    "colab": {},
    "colab_type": "code",
    "id": "qW4MxqfYmcxT"
   },
   "outputs": [
    {
     "data": {
      "text/plain": [
       "array([35.4, 35.9, 29.1, 42.6, 35.2])"
      ]
     },
     "execution_count": 17,
     "metadata": {},
     "output_type": "execute_result"
    }
   ],
   "source": [
    "# only values\n",
    "tmp.loc[:, 'BMXBMI'].values"
   ]
  },
  {
   "cell_type": "markdown",
   "metadata": {},
   "source": [
    "### Problem"
   ]
  },
  {
   "cell_type": "code",
   "execution_count": 18,
   "metadata": {
    "ExecuteTime": {
     "end_time": "2023-10-01T23:12:36.073095300Z",
     "start_time": "2023-10-01T23:12:36.006714500Z"
    },
    "colab": {},
    "colab_type": "code",
    "id": "JxT4Q9MbmcxY"
   },
   "outputs": [],
   "source": [
    "# tmp.iloc[:, 'BMXBMI'] # error"
   ]
  },
  {
   "cell_type": "markdown",
   "metadata": {
    "colab_type": "text",
    "id": "JP56H_f4mcxa"
   },
   "source": [
    "The above gives: `ValueError: Location based indexing can only have [integer, integer slice (START point is INCLUDED, END point is EXCLUDED), listlike of integers, boolean array] types`\n",
    "\n",
    "\"BMXBMI\" is not an integer that is less than or equal number of columns -1, or a list of boolean values, so it is the wrong value type."
   ]
  },
  {
   "cell_type": "code",
   "execution_count": 19,
   "metadata": {
    "ExecuteTime": {
     "end_time": "2023-10-01T23:12:36.113347200Z",
     "start_time": "2023-10-01T23:12:36.020792600Z"
    },
    "colab": {},
    "colab_type": "code",
    "id": "KTNYYjS3mcxb"
   },
   "outputs": [
    {
     "data": {
      "text/plain": [
       "a    35.4\n",
       "b    35.9\n",
       "c    29.1\n",
       "d    42.6\n",
       "e    35.2\n",
       "Name: BMXBMI, dtype: float64"
      ]
     },
     "execution_count": 19,
     "metadata": {},
     "output_type": "execute_result"
    }
   ],
   "source": [
    "tmp.iloc[:, 2]"
   ]
  },
  {
   "cell_type": "markdown",
   "metadata": {},
   "source": [
    "### Problem"
   ]
  },
  {
   "cell_type": "code",
   "execution_count": 20,
   "metadata": {
    "ExecuteTime": {
     "end_time": "2023-10-01T23:12:36.116485400Z",
     "start_time": "2023-10-01T23:12:36.035970300Z"
    },
    "colab": {},
    "colab_type": "code",
    "id": "_agjxInnmcxe"
   },
   "outputs": [],
   "source": [
    "# tmp.loc[:, 2] # error"
   ]
  },
  {
   "cell_type": "markdown",
   "metadata": {
    "colab_type": "text",
    "id": "v-B3c54Cmcxh"
   },
   "source": [
    "The above code gives: `KeyError: 2`\n",
    "\n",
    "2 is not one of the labels (i.e. column names) in the dataframe."
   ]
  },
  {
   "cell_type": "code",
   "execution_count": 21,
   "metadata": {
    "ExecuteTime": {
     "end_time": "2023-10-01T23:12:36.116485400Z",
     "start_time": "2023-10-01T23:12:36.068393400Z"
    },
    "colab": {},
    "colab_type": "code",
    "hide_input": false,
    "id": "ihBV3Zx5mcxi"
   },
   "outputs": [
    {
     "data": {
      "text/html": [
       "<div>\n",
       "<style scoped>\n",
       "    .dataframe tbody tr th:only-of-type {\n",
       "        vertical-align: middle;\n",
       "    }\n",
       "\n",
       "    .dataframe tbody tr th {\n",
       "        vertical-align: top;\n",
       "    }\n",
       "\n",
       "    .dataframe thead th {\n",
       "        text-align: right;\n",
       "    }\n",
       "</style>\n",
       "<table border=\"1\" class=\"dataframe\">\n",
       "  <thead>\n",
       "    <tr style=\"text-align: right;\">\n",
       "      <th></th>\n",
       "      <th>BMXBMI</th>\n",
       "    </tr>\n",
       "  </thead>\n",
       "  <tbody>\n",
       "    <tr>\n",
       "      <th>a</th>\n",
       "      <td>35.4</td>\n",
       "    </tr>\n",
       "    <tr>\n",
       "      <th>b</th>\n",
       "      <td>35.9</td>\n",
       "    </tr>\n",
       "    <tr>\n",
       "      <th>c</th>\n",
       "      <td>29.1</td>\n",
       "    </tr>\n",
       "    <tr>\n",
       "      <th>d</th>\n",
       "      <td>42.6</td>\n",
       "    </tr>\n",
       "    <tr>\n",
       "      <th>e</th>\n",
       "      <td>35.2</td>\n",
       "    </tr>\n",
       "  </tbody>\n",
       "</table>\n",
       "</div>"
      ],
      "text/plain": [
       "   BMXBMI\n",
       "a    35.4\n",
       "b    35.9\n",
       "c    29.1\n",
       "d    42.6\n",
       "e    35.2"
      ]
     },
     "execution_count": 21,
     "metadata": {},
     "output_type": "execute_result"
    }
   ],
   "source": [
    "# Here is another example of using a boolean list for indexing columns\n",
    "tmp.loc[:, [False, False, True] + [False] * 4]"
   ]
  },
  {
   "cell_type": "code",
   "execution_count": 22,
   "metadata": {
    "ExecuteTime": {
     "end_time": "2023-10-01T23:12:36.117530800Z",
     "start_time": "2023-10-01T23:12:36.068393400Z"
    }
   },
   "outputs": [
    {
     "data": {
      "text/plain": [
       "a    35.4\n",
       "b    35.9\n",
       "c    29.1\n",
       "d    42.6\n",
       "e    35.2\n",
       "Name: BMXBMI, dtype: float64"
      ]
     },
     "execution_count": 22,
     "metadata": {},
     "output_type": "execute_result"
    }
   ],
   "source": [
    "tmp.iloc[:, 2]"
   ]
  },
  {
   "cell_type": "markdown",
   "metadata": {},
   "source": [
    "# Change values in a data frame\n",
    "\n",
    "We can use the `.loc[]` and `.iloc[]` methods to change values within the dataframe."
   ]
  },
  {
   "cell_type": "code",
   "execution_count": 23,
   "metadata": {
    "ExecuteTime": {
     "end_time": "2023-10-01T23:12:36.125373600Z",
     "start_time": "2023-10-01T23:12:36.097135300Z"
    },
    "colab": {},
    "colab_type": "code",
    "id": "tlch7rjomcxm"
   },
   "outputs": [
    {
     "data": {
      "text/plain": [
       "a     0.0\n",
       "b     0.0\n",
       "c     0.0\n",
       "d    42.6\n",
       "e    35.2\n",
       "Name: BMXBMI, dtype: float64"
      ]
     },
     "execution_count": 23,
     "metadata": {},
     "output_type": "execute_result"
    }
   ],
   "source": [
    "tmp.iloc[0:3, 2] = [0] * 3\n",
    "tmp.iloc[:, 2]"
   ]
  },
  {
   "cell_type": "code",
   "execution_count": 24,
   "metadata": {
    "ExecuteTime": {
     "end_time": "2023-10-01T23:12:36.125893100Z",
     "start_time": "2023-10-01T23:12:36.098713700Z"
    },
    "colab": {},
    "colab_type": "code",
    "id": "hZi7YHFUmcxq"
   },
   "outputs": [
    {
     "data": {
      "text/plain": [
       "a     1.0\n",
       "b     1.0\n",
       "c     1.0\n",
       "d    42.6\n",
       "e    35.2\n",
       "Name: BMXBMI, dtype: float64"
      ]
     },
     "execution_count": 24,
     "metadata": {},
     "output_type": "execute_result"
    }
   ],
   "source": [
    "tmp.loc['a':'c', 'BMXBMI'] = [1] * 3\n",
    "tmp.loc[:, 'BMXBMI']"
   ]
  },
  {
   "cell_type": "markdown",
   "metadata": {},
   "source": [
    "We can use the `[]` method when changing all the values of a column."
   ]
  },
  {
   "cell_type": "code",
   "execution_count": 25,
   "metadata": {
    "ExecuteTime": {
     "end_time": "2023-10-01T23:12:36.129014Z",
     "start_time": "2023-10-01T23:12:36.113347200Z"
    },
    "colab": {},
    "colab_type": "code",
    "id": "DVCVp7yUmcxt"
   },
   "outputs": [
    {
     "data": {
      "text/html": [
       "<div>\n",
       "<style scoped>\n",
       "    .dataframe tbody tr th:only-of-type {\n",
       "        vertical-align: middle;\n",
       "    }\n",
       "\n",
       "    .dataframe tbody tr th {\n",
       "        vertical-align: top;\n",
       "    }\n",
       "\n",
       "    .dataframe thead th {\n",
       "        text-align: right;\n",
       "    }\n",
       "</style>\n",
       "<table border=\"1\" class=\"dataframe\">\n",
       "  <thead>\n",
       "    <tr style=\"text-align: right;\">\n",
       "      <th></th>\n",
       "      <th>BMXWT</th>\n",
       "      <th>BMXHT</th>\n",
       "      <th>BMXBMI</th>\n",
       "      <th>BMXLEG</th>\n",
       "      <th>BMXARML</th>\n",
       "      <th>BMXARMC</th>\n",
       "      <th>BMXWAIST</th>\n",
       "    </tr>\n",
       "  </thead>\n",
       "  <tbody>\n",
       "    <tr>\n",
       "      <th>a</th>\n",
       "      <td>80.5</td>\n",
       "      <td>150.8</td>\n",
       "      <td>0</td>\n",
       "      <td>31.6</td>\n",
       "      <td>32.7</td>\n",
       "      <td>33.7</td>\n",
       "      <td>113.5</td>\n",
       "    </tr>\n",
       "    <tr>\n",
       "      <th>b</th>\n",
       "      <td>75.6</td>\n",
       "      <td>145.2</td>\n",
       "      <td>1</td>\n",
       "      <td>31.0</td>\n",
       "      <td>33.1</td>\n",
       "      <td>36.0</td>\n",
       "      <td>108.0</td>\n",
       "    </tr>\n",
       "    <tr>\n",
       "      <th>c</th>\n",
       "      <td>63.7</td>\n",
       "      <td>147.9</td>\n",
       "      <td>2</td>\n",
       "      <td>26.0</td>\n",
       "      <td>34.0</td>\n",
       "      <td>31.5</td>\n",
       "      <td>110.0</td>\n",
       "    </tr>\n",
       "    <tr>\n",
       "      <th>d</th>\n",
       "      <td>105.9</td>\n",
       "      <td>157.7</td>\n",
       "      <td>3</td>\n",
       "      <td>29.2</td>\n",
       "      <td>35.0</td>\n",
       "      <td>40.7</td>\n",
       "      <td>129.1</td>\n",
       "    </tr>\n",
       "    <tr>\n",
       "      <th>e</th>\n",
       "      <td>77.5</td>\n",
       "      <td>148.3</td>\n",
       "      <td>4</td>\n",
       "      <td>30.5</td>\n",
       "      <td>34.0</td>\n",
       "      <td>34.4</td>\n",
       "      <td>107.6</td>\n",
       "    </tr>\n",
       "  </tbody>\n",
       "</table>\n",
       "</div>"
      ],
      "text/plain": [
       "   BMXWT  BMXHT  BMXBMI  BMXLEG  BMXARML  BMXARMC  BMXWAIST\n",
       "a   80.5  150.8       0    31.6     32.7     33.7     113.5\n",
       "b   75.6  145.2       1    31.0     33.1     36.0     108.0\n",
       "c   63.7  147.9       2    26.0     34.0     31.5     110.0\n",
       "d  105.9  157.7       3    29.2     35.0     40.7     129.1\n",
       "e   77.5  148.3       4    30.5     34.0     34.4     107.6"
      ]
     },
     "execution_count": 25,
     "metadata": {},
     "output_type": "execute_result"
    }
   ],
   "source": [
    "tmp['BMXBMI'] = range(0, 5)\n",
    "tmp"
   ]
  },
  {
   "cell_type": "markdown",
   "metadata": {},
   "source": [
    "We will get a warning when using the `[]` method with conditions to set new values in our dataframe like:"
   ]
  },
  {
   "cell_type": "code",
   "execution_count": 26,
   "metadata": {},
   "outputs": [],
   "source": [
    "# Setting new values to a copy of tmp, but not tmp itself\n",
    "# tmp[tmp.BMXBMI > 2]['BMXBMI'] = [10] * 2  # warning\n",
    "# tmp"
   ]
  },
  {
   "cell_type": "markdown",
   "metadata": {},
   "source": [
    "You can see that the above code did not change our dataframe `tmp`.\n",
    "\n",
    "The correct way to do the above is with `.loc[]` or `.iloc[]`."
   ]
  },
  {
   "cell_type": "code",
   "execution_count": 27,
   "metadata": {
    "ExecuteTime": {
     "end_time": "2023-10-01T23:12:36.171795900Z",
     "start_time": "2023-10-01T23:12:36.133176100Z"
    },
    "colab": {},
    "colab_type": "code",
    "id": "GyWDv9Remcxw"
   },
   "outputs": [
    {
     "data": {
      "text/html": [
       "<div>\n",
       "<style scoped>\n",
       "    .dataframe tbody tr th:only-of-type {\n",
       "        vertical-align: middle;\n",
       "    }\n",
       "\n",
       "    .dataframe tbody tr th {\n",
       "        vertical-align: top;\n",
       "    }\n",
       "\n",
       "    .dataframe thead th {\n",
       "        text-align: right;\n",
       "    }\n",
       "</style>\n",
       "<table border=\"1\" class=\"dataframe\">\n",
       "  <thead>\n",
       "    <tr style=\"text-align: right;\">\n",
       "      <th></th>\n",
       "      <th>BMXWT</th>\n",
       "      <th>BMXHT</th>\n",
       "      <th>BMXBMI</th>\n",
       "      <th>BMXLEG</th>\n",
       "      <th>BMXARML</th>\n",
       "      <th>BMXARMC</th>\n",
       "      <th>BMXWAIST</th>\n",
       "    </tr>\n",
       "  </thead>\n",
       "  <tbody>\n",
       "    <tr>\n",
       "      <th>a</th>\n",
       "      <td>80.5</td>\n",
       "      <td>150.8</td>\n",
       "      <td>0</td>\n",
       "      <td>31.6</td>\n",
       "      <td>32.7</td>\n",
       "      <td>33.7</td>\n",
       "      <td>113.5</td>\n",
       "    </tr>\n",
       "    <tr>\n",
       "      <th>b</th>\n",
       "      <td>75.6</td>\n",
       "      <td>145.2</td>\n",
       "      <td>1</td>\n",
       "      <td>31.0</td>\n",
       "      <td>33.1</td>\n",
       "      <td>36.0</td>\n",
       "      <td>108.0</td>\n",
       "    </tr>\n",
       "    <tr>\n",
       "      <th>c</th>\n",
       "      <td>63.7</td>\n",
       "      <td>147.9</td>\n",
       "      <td>2</td>\n",
       "      <td>26.0</td>\n",
       "      <td>34.0</td>\n",
       "      <td>31.5</td>\n",
       "      <td>110.0</td>\n",
       "    </tr>\n",
       "    <tr>\n",
       "      <th>d</th>\n",
       "      <td>105.9</td>\n",
       "      <td>157.7</td>\n",
       "      <td>10</td>\n",
       "      <td>29.2</td>\n",
       "      <td>35.0</td>\n",
       "      <td>40.7</td>\n",
       "      <td>129.1</td>\n",
       "    </tr>\n",
       "    <tr>\n",
       "      <th>e</th>\n",
       "      <td>77.5</td>\n",
       "      <td>148.3</td>\n",
       "      <td>10</td>\n",
       "      <td>30.5</td>\n",
       "      <td>34.0</td>\n",
       "      <td>34.4</td>\n",
       "      <td>107.6</td>\n",
       "    </tr>\n",
       "  </tbody>\n",
       "</table>\n",
       "</div>"
      ],
      "text/plain": [
       "   BMXWT  BMXHT  BMXBMI  BMXLEG  BMXARML  BMXARMC  BMXWAIST\n",
       "a   80.5  150.8       0    31.6     32.7     33.7     113.5\n",
       "b   75.6  145.2       1    31.0     33.1     36.0     108.0\n",
       "c   63.7  147.9       2    26.0     34.0     31.5     110.0\n",
       "d  105.9  157.7      10    29.2     35.0     40.7     129.1\n",
       "e   77.5  148.3      10    30.5     34.0     34.4     107.6"
      ]
     },
     "execution_count": 27,
     "metadata": {},
     "output_type": "execute_result"
    }
   ],
   "source": [
    "tmp.loc[tmp['BMXBMI'] > 2, 'BMXBMI'] = [10] * 2\n",
    "tmp  # Now contains the chances"
   ]
  },
  {
   "cell_type": "code",
   "execution_count": null,
   "metadata": {
    "ExecuteTime": {
     "end_time": "2023-10-01T23:12:36.208819300Z",
     "start_time": "2023-10-01T23:12:36.144157800Z"
    },
    "colab": {},
    "colab_type": "code",
    "id": "QuvTiBmDmcxy"
   },
   "outputs": [],
   "source": []
  }
 ],
 "metadata": {
  "colab": {
   "name": "Multivariate Data Selection.ipynb",
   "provenance": [],
   "version": "0.3.2"
  },
  "hide_input": false,
  "kernelspec": {
   "display_name": "Python 3 (ipykernel)",
   "language": "python",
   "name": "python3"
  },
  "language_info": {
   "codemirror_mode": {
    "name": "ipython",
    "version": 3
   },
   "file_extension": ".py",
   "mimetype": "text/x-python",
   "name": "python",
   "nbconvert_exporter": "python",
   "pygments_lexer": "ipython3",
   "version": "3.10.11"
  },
  "toc": {
   "base_numbering": 1,
   "nav_menu": {},
   "number_sections": false,
   "sideBar": true,
   "skip_h1_title": false,
   "title_cell": "Table of Contents",
   "title_sidebar": "Contents",
   "toc_cell": false,
   "toc_position": {
    "height": "calc(100% - 180px)",
    "left": "10px",
    "top": "150px",
    "width": "384px"
   },
   "toc_section_display": true,
   "toc_window_display": false
  },
  "varInspector": {
   "cols": {
    "lenName": 16,
    "lenType": 16,
    "lenVar": 40
   },
   "kernels_config": {
    "python": {
     "delete_cmd_postfix": "",
     "delete_cmd_prefix": "del ",
     "library": "var_list.py",
     "varRefreshCmd": "print(var_dic_list())"
    },
    "r": {
     "delete_cmd_postfix": ") ",
     "delete_cmd_prefix": "rm(",
     "library": "var_list.r",
     "varRefreshCmd": "cat(var_dic_list()) "
    }
   },
   "types_to_exclude": [
    "module",
    "function",
    "builtin_function_or_method",
    "instance",
    "_Feature"
   ],
   "window_display": false
  }
 },
 "nbformat": 4,
 "nbformat_minor": 1
}
